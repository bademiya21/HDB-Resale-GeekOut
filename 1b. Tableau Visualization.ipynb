{
 "cells": [
  {
   "cell_type": "markdown",
   "metadata": {},
   "source": [
    "# Tableau Visualization\n",
    "\n",
    "We will use the **HDB_Resale_Data_mrt_cleaned.csv** to do some dashboards in Tableau to answer some simple data-based questions. Tableau is a powerful and fastest growing data visualization tool used in the Business Intelligence Industry. It helps in simplifying raw data into the very easily understandable format.\n",
    "\n",
    "Data analysis is very fast with Tableau and the visualizations created are in the form of dashboards and worksheets. The data that is created using Tableau can be understood by professional at any level in an organization. It even allows a non-technical user to create a customized dashboard.\n",
    "\n",
    "The best feature Tableau are\n",
    "- Data Blending\n",
    "- Real time analysis\n",
    "- Collaboration of data\n",
    "\n",
    "The great thing about Tableau software is that it doesn't require any technical or any kind of programming skills to operate.\n",
    "\n",
    "## Questions\n",
    "\n",
    "1. How do the transactions vary across the years? Is it possible to see what the new towns are between 1990 and 2018?\n",
    "\n",
    "2. Visualize the number of resale transactions across the years. Add filters to subset by town followed by flat type.\n",
    "\n",
    "3. How do the median prices of resale flats vary across the years? Add filters to subset by town followed by flat type.\n",
    "\n",
    "4. (Challenge) Can you create a dashboard where users can input their maximum budget and flat type and the dashboard return towns where at least 50% of flat types were sold at or below maximum budget value (hint: use median) and within a certain distance to the nearest MRT station based on historical transactions in the previous year."
   ]
  },
  {
   "cell_type": "code",
   "execution_count": null,
   "metadata": {},
   "outputs": [],
   "source": []
  }
 ],
 "metadata": {
  "kernelspec": {
   "display_name": "Python 3",
   "language": "python",
   "name": "python3"
  },
  "language_info": {
   "codemirror_mode": {
    "name": "ipython",
    "version": 3
   },
   "file_extension": ".py",
   "mimetype": "text/x-python",
   "name": "python",
   "nbconvert_exporter": "python",
   "pygments_lexer": "ipython3",
   "version": "3.7.3"
  }
 },
 "nbformat": 4,
 "nbformat_minor": 2
}
